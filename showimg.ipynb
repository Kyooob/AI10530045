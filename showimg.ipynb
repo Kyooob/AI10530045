{
 "cells": [
  {
   "cell_type": "code",
   "execution_count": 31,
   "metadata": {},
   "outputs": [
    {
     "ename": "ValueError",
     "evalue": "invalid PNG header",
     "output_type": "error",
     "traceback": [
      "\u001b[0;31m---------------------------------------------------------------------------\u001b[0m",
      "\u001b[0;31mValueError\u001b[0m                                Traceback (most recent call last)",
      "\u001b[0;32m<ipython-input-31-4019a449a4f8>\u001b[0m in \u001b[0;36m<module>\u001b[0;34m()\u001b[0m\n\u001b[1;32m      2\u001b[0m \u001b[0;32mfrom\u001b[0m \u001b[0mmatplotlib\u001b[0m\u001b[0;34m.\u001b[0m\u001b[0mimage\u001b[0m \u001b[0;32mimport\u001b[0m \u001b[0mimread\u001b[0m\u001b[0;34m\u001b[0m\u001b[0m\n\u001b[1;32m      3\u001b[0m \u001b[0;34m\u001b[0m\u001b[0m\n\u001b[0;32m----> 4\u001b[0;31m \u001b[0mimg\u001b[0m \u001b[0;34m=\u001b[0m \u001b[0mimread\u001b[0m\u001b[0;34m(\u001b[0m\u001b[0;34m\"data:image/jpeg;base64,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\"\u001b[0m\u001b[0;34m)\u001b[0m\u001b[0;34m\u001b[0m\u001b[0m\n\u001b[0m\u001b[1;32m      5\u001b[0m \u001b[0mplt\u001b[0m\u001b[0;34m.\u001b[0m\u001b[0mimshow\u001b[0m\u001b[0;34m(\u001b[0m\u001b[0mimg\u001b[0m\u001b[0;34m)\u001b[0m\u001b[0;34m\u001b[0m\u001b[0m\n\u001b[1;32m      6\u001b[0m \u001b[0;34m\u001b[0m\u001b[0m\n",
      "\u001b[0;32m/srv/conda/lib/python3.6/site-packages/matplotlib/image.py\u001b[0m in \u001b[0;36mimread\u001b[0;34m(fname, format)\u001b[0m\n\u001b[1;32m   1317\u001b[0m         \u001b[0;32mif\u001b[0m \u001b[0mlen\u001b[0m\u001b[0;34m(\u001b[0m\u001b[0mparsed\u001b[0m\u001b[0;34m.\u001b[0m\u001b[0mscheme\u001b[0m\u001b[0;34m)\u001b[0m \u001b[0;34m>\u001b[0m \u001b[0;36m1\u001b[0m\u001b[0;34m:\u001b[0m\u001b[0;34m\u001b[0m\u001b[0m\n\u001b[1;32m   1318\u001b[0m             \u001b[0mfd\u001b[0m \u001b[0;34m=\u001b[0m \u001b[0mBytesIO\u001b[0m\u001b[0;34m(\u001b[0m\u001b[0murlopen\u001b[0m\u001b[0;34m(\u001b[0m\u001b[0mfname\u001b[0m\u001b[0;34m)\u001b[0m\u001b[0;34m.\u001b[0m\u001b[0mread\u001b[0m\u001b[0;34m(\u001b[0m\u001b[0;34m)\u001b[0m\u001b[0;34m)\u001b[0m\u001b[0;34m\u001b[0m\u001b[0m\n\u001b[0;32m-> 1319\u001b[0;31m             \u001b[0;32mreturn\u001b[0m \u001b[0mhandler\u001b[0m\u001b[0;34m(\u001b[0m\u001b[0mfd\u001b[0m\u001b[0;34m)\u001b[0m\u001b[0;34m\u001b[0m\u001b[0m\n\u001b[0m\u001b[1;32m   1320\u001b[0m         \u001b[0;32melse\u001b[0m\u001b[0;34m:\u001b[0m\u001b[0;34m\u001b[0m\u001b[0m\n\u001b[1;32m   1321\u001b[0m             \u001b[0;32mwith\u001b[0m \u001b[0mopen\u001b[0m\u001b[0;34m(\u001b[0m\u001b[0mfname\u001b[0m\u001b[0;34m,\u001b[0m \u001b[0;34m'rb'\u001b[0m\u001b[0;34m)\u001b[0m \u001b[0;32mas\u001b[0m \u001b[0mfd\u001b[0m\u001b[0;34m:\u001b[0m\u001b[0;34m\u001b[0m\u001b[0m\n",
      "\u001b[0;31mValueError\u001b[0m: invalid PNG header"
     ]
    }
   ],
   "source": [
    "import matplotlib.pyplot as plt\n",
    "from matplotlib.image import imread\n",
    "\n",
    "img = imread('CAT.jpg')\n",
    "plt.imshow(img)\n",
    "\n",
    "plt.show()"
   ]
  },
  {
   "cell_type": "code",
   "execution_count": null,
   "metadata": {},
   "outputs": [],
   "source": []
  },
  {
   "cell_type": "code",
   "execution_count": null,
   "metadata": {},
   "outputs": [],
   "source": []
  }
 ],
 "metadata": {
  "kernelspec": {
   "display_name": "Python 3",
   "language": "python",
   "name": "python3"
  },
  "language_info": {
   "codemirror_mode": {
    "name": "ipython",
    "version": 3
   },
   "file_extension": ".py",
   "mimetype": "text/x-python",
   "name": "python",
   "nbconvert_exporter": "python",
   "pygments_lexer": "ipython3",
   "version": "3.6.6"
  }
 },
 "nbformat": 4,
 "nbformat_minor": 2
}
