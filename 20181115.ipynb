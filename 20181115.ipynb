{
  "nbformat": 4,
  "nbformat_minor": 0,
  "metadata": {
    "colab": {
      "name": "20181115.ipynb",
      "version": "0.3.2",
      "provenance": []
    },
    "kernelspec": {
      "name": "python3",
      "display_name": "Python 3"
    }
  },
  "cells": [
    {
      "metadata": {
        "id": "WL-9Kdj4GlzF",
        "colab_type": "code",
        "colab": {
          "base_uri": "https://localhost:8080/",
          "height": 54
        },
        "outputId": "98968612-17b1-4f4e-b628-84e5aefe2ed0"
      },
      "cell_type": "code",
      "source": [
        "import numpy as np\n",
        "import pandas as pd\n",
        "from sklearn.cross_validation import train_test_split\n",
        "from sklearn.preprocessing import StandardScaler\n",
        "from sklearn.linear_model import LogisticRegression, SGDClassifier\n",
        "from sklearn.metrics import classification_report\n",
        "import matplotlib.pyplot as plt\n",
        "from matplotlib.image import imread\n",
        "'''\n",
        "博文：HTTP：//www.cnblogs.com/Lin-Yi/p/8970510.html\n",
        "線性分類器\n",
        "最基本和常用的機器學習模型\n",
        "受限於數據特徵與分類目標的線性假設\n",
        "邏輯斯蒂回歸計算時間長，模型性能略高\n",
        "隨機參數估計計算時間短，模型性能略低\n",
        "Github:https://github.com/linyi0604/MachineLearning/blob/master/01_%E7%9B%91%E7%9D%A3%E5%AD%A6%E4%B9%A0_%E5%88%86%E7%B1%BB%E9%A2%84%E6%B5%8B/01_(%E7%BA%BF%E6%80%A7%E5%88%86%E7%B1%BB%E5%99%A8)%E8%89%AF%E6%81%B6%E6%80%A7%E8%82%BF%E7%98%A4%E9%A2%84%E6%B5%8B.py\n",
        "\n",
        "'''"
      ],
      "execution_count": 55,
      "outputs": [
        {
          "output_type": "execute_result",
          "data": {
            "text/plain": [
              "'\\n博文：HTTP：//www.cnblogs.com/Lin-Yi/p/8970510.html\\n線性分類器\\n最基本和常用的機器學習模型\\n受限於數據特徵與分類目標的線性假設\\n邏輯斯蒂回歸計算時間長，模型性能略高\\n隨機參數估計計算時間短，模型性能略低\\n'"
            ]
          },
          "metadata": {
            "tags": []
          },
          "execution_count": 55
        }
      ]
    },
    {
      "metadata": {
        "id": "BF4BYJGYPEvx",
        "colab_type": "text"
      },
      "cell_type": "markdown",
      "source": [
        "\n",
        "**1.數據預處理**\n"
      ]
    },
    {
      "metadata": {
        "id": "K5wCq2LuG9lC",
        "colab_type": "code",
        "colab": {}
      },
      "cell_type": "code",
      "source": [
        "#創建特徵列表\n",
        "column_names = ['Sample code number', 'Clump Thickness', 'Uniformity of Cell Size',\n",
        "                'Uniformity of Cell Shape', 'Marginal Adhesion', 'Single Epithelial Cell size',\n",
        "                'Bare Nuclei', 'Bland Chromatin', 'Normal Nucleoli', 'Mitoses', 'Class']"
      ],
      "execution_count": 0,
      "outputs": []
    },
    {
      "metadata": {
        "id": "cppjqNWFJUL8",
        "colab_type": "code",
        "colab": {
          "base_uri": "https://localhost:8080/",
          "height": 122
        },
        "outputId": "b1c2b0fb-9db7-42a9-90e3-73ab1337d46a"
      },
      "cell_type": "code",
      "source": [
        "from google.colab import drive\n",
        "drive.mount('/content/drive/')"
      ],
      "execution_count": 7,
      "outputs": [
        {
          "output_type": "stream",
          "text": [
            "Go to this URL in a browser: https://accounts.google.com/o/oauth2/auth?client_id=947318989803-6bn6qk8qdgf4n4g3pfee6491hc0brc4i.apps.googleusercontent.com&redirect_uri=urn%3Aietf%3Awg%3Aoauth%3A2.0%3Aoob&scope=email%20https%3A%2F%2Fwww.googleapis.com%2Fauth%2Fdocs.test%20https%3A%2F%2Fwww.googleapis.com%2Fauth%2Fdrive%20https%3A%2F%2Fwww.googleapis.com%2Fauth%2Fdrive.photos.readonly%20https%3A%2F%2Fwww.googleapis.com%2Fauth%2Fpeopleapi.readonly&response_type=code\n",
            "\n",
            "Enter your authorization code:\n",
            "··········\n",
            "Mounted at /content/drive/\n"
          ],
          "name": "stdout"
        }
      ]
    },
    {
      "metadata": {
        "id": "M9IhWG4sJc06",
        "colab_type": "code",
        "colab": {
          "base_uri": "https://localhost:8080/",
          "height": 34
        },
        "outputId": "c6d021c3-9ff5-4dd2-df56-708571304206"
      },
      "cell_type": "code",
      "source": [
        "cd /content/drive/My Drive/Colab Notebooks"
      ],
      "execution_count": 11,
      "outputs": [
        {
          "output_type": "stream",
          "text": [
            "/content/drive/My Drive/Colab Notebooks\n"
          ],
          "name": "stdout"
        }
      ]
    },
    {
      "metadata": {
        "id": "Vor-23P-G_ux",
        "colab_type": "code",
        "colab": {}
      },
      "cell_type": "code",
      "source": [
        "# 使用pandas.read_csv取數據集\n",
        "data = pd.read_csv('123.txt', names=column_names)"
      ],
      "execution_count": 0,
      "outputs": []
    },
    {
      "metadata": {
        "id": "xDokye6SMMA7",
        "colab_type": "code",
        "colab": {}
      },
      "cell_type": "code",
      "source": [
        "# 將？替換為標準缺失值表示\n",
        "data = data.replace(to_replace='?', value=np.nan)"
      ],
      "execution_count": 0,
      "outputs": []
    },
    {
      "metadata": {
        "id": "VXYDkzUEMyps",
        "colab_type": "code",
        "colab": {}
      },
      "cell_type": "code",
      "source": [
        "# 丟失帶有缺失值的數據 只要有一個維度有缺失就丟棄\n",
        "data = data.dropna(how='any')"
      ],
      "execution_count": 0,
      "outputs": []
    },
    {
      "metadata": {
        "id": "g-5Jcku3Mz1k",
        "colab_type": "code",
        "colab": {
          "base_uri": "https://localhost:8080/",
          "height": 34
        },
        "outputId": "efe17356-04e2-4e3b-8929-7e9e2dc50137"
      },
      "cell_type": "code",
      "source": [
        "# 輸出data數據的數量和维度\n",
        "print(data.shape)"
      ],
      "execution_count": 21,
      "outputs": [
        {
          "output_type": "stream",
          "text": [
            "(683, 11)\n"
          ],
          "name": "stdout"
        }
      ]
    },
    {
      "metadata": {
        "id": "oIbP_fVEQLI6",
        "colab_type": "text"
      },
      "cell_type": "markdown",
      "source": [
        "**2.準備良惡性腫瘤訓練，測試數據部分**"
      ]
    },
    {
      "metadata": {
        "id": "NsrsVvvDM55K",
        "colab_type": "code",
        "colab": {}
      },
      "cell_type": "code",
      "source": [
        "# 隨機採樣25％數據用於測試75％數據用於訓練\n",
        "x_train, x_test, y_train, y_test = train_test_split(data[column_names[1:10]],\n",
        "                                                    data[column_names[10]],\n",
        "                                                    test_size=0.25,\n",
        "                                                    random_state=33)"
      ],
      "execution_count": 0,
      "outputs": []
    },
    {
      "metadata": {
        "id": "syEBKEkDM-Z5",
        "colab_type": "code",
        "colab": {
          "base_uri": "https://localhost:8080/",
          "height": 68
        },
        "outputId": "905f1f9a-331b-4ec3-f10e-677bad4638a3"
      },
      "cell_type": "code",
      "source": [
        "#查驗訓練樣本的數量和類別分佈\n",
        "print(y_train.value_counts())\n",
        "#訓練樣本共512條其中344條良性腫瘤168條惡性腫瘤"
      ],
      "execution_count": 23,
      "outputs": [
        {
          "output_type": "stream",
          "text": [
            "2    344\n",
            "4    168\n",
            "Name: Class, dtype: int64\n"
          ],
          "name": "stdout"
        }
      ]
    },
    {
      "metadata": {
        "id": "8G4wcHnvNCHU",
        "colab_type": "code",
        "colab": {
          "base_uri": "https://localhost:8080/",
          "height": 68
        },
        "outputId": "644bc4c1-b37c-4ce6-bfda-5208733e5025"
      },
      "cell_type": "code",
      "source": [
        "#查驗測試樣本的數量和類別分佈\n",
        "print(y_test.value_counts())\n",
        "#測試數據共171條其中100條良性腫瘤71條惡性腫瘤"
      ],
      "execution_count": 36,
      "outputs": [
        {
          "output_type": "stream",
          "text": [
            "2    100\n",
            "4     71\n",
            "Name: Class, dtype: int64\n"
          ],
          "name": "stdout"
        }
      ]
    },
    {
      "metadata": {
        "id": "IRvfluywSmLL",
        "colab_type": "text"
      },
      "cell_type": "markdown",
      "source": [
        "**3.機器學習模型進行預測部分**"
      ]
    },
    {
      "metadata": {
        "id": "8OH9YgKuNGLz",
        "colab_type": "code",
        "colab": {}
      },
      "cell_type": "code",
      "source": [
        "#數據標準化，保證每個維度特徵的方差為1均值為0預測結果不會被某些維度過大的特徵值主導\n",
        "ss = StandardScaler()\n",
        "x_train = ss.fit_transform(x_train)     #對x_train進行標準化\n",
        "x_test = ss.transform(x_test)           #用與x_train相同的規則對x_test進行標準化，不重新建立規則"
      ],
      "execution_count": 0,
      "outputs": []
    },
    {
      "metadata": {
        "id": "az6D76rfNS1r",
        "colab_type": "code",
        "colab": {}
      },
      "cell_type": "code",
      "source": [
        "lr = LogisticRegression()   #初始化邏輯斯蒂回歸模型\n",
        "sgdc = SGDClassifier()  # 初始化隨機參數估計模型"
      ],
      "execution_count": 0,
      "outputs": []
    },
    {
      "metadata": {
        "id": "Pd2FG28HNVW7",
        "colab_type": "code",
        "colab": {
          "base_uri": "https://localhost:8080/",
          "height": 85
        },
        "outputId": "0a49606f-3bc4-4f95-fa0b-a5a1f2c80847"
      },
      "cell_type": "code",
      "source": [
        "#使用邏輯斯蒂回歸在訓練集合上訓練\n",
        "lr.fit(x_train, y_train)"
      ],
      "execution_count": 27,
      "outputs": [
        {
          "output_type": "execute_result",
          "data": {
            "text/plain": [
              "LogisticRegression(C=1.0, class_weight=None, dual=False, fit_intercept=True,\n",
              "          intercept_scaling=1, max_iter=100, multi_class='ovr', n_jobs=1,\n",
              "          penalty='l2', random_state=None, solver='liblinear', tol=0.0001,\n",
              "          verbose=0, warm_start=False)"
            ]
          },
          "metadata": {
            "tags": []
          },
          "execution_count": 27
        }
      ]
    },
    {
      "metadata": {
        "id": "aTpYrWW1NY9p",
        "colab_type": "code",
        "colab": {}
      },
      "cell_type": "code",
      "source": [
        "#訓練好後對測試集合進行預測預測結果保存在lr_y_predict中\n",
        "lr_y_predict = lr.predict(x_test)"
      ],
      "execution_count": 0,
      "outputs": []
    },
    {
      "metadata": {
        "id": "nvT5kGmCNb8J",
        "colab_type": "code",
        "colab": {
          "base_uri": "https://localhost:8080/",
          "height": 156
        },
        "outputId": "cf8cc95d-a190-4797-d47e-738b0e7a0196"
      },
      "cell_type": "code",
      "source": [
        "#使用隨機參數估計在訓練集合上訓練\n",
        "sgdc.fit(x_train, y_train)"
      ],
      "execution_count": 29,
      "outputs": [
        {
          "output_type": "stream",
          "text": [
            "/usr/local/lib/python3.6/dist-packages/sklearn/linear_model/stochastic_gradient.py:128: FutureWarning: max_iter and tol parameters have been added in <class 'sklearn.linear_model.stochastic_gradient.SGDClassifier'> in 0.19. If both are left unset, they default to max_iter=5 and tol=None. If tol is not None, max_iter defaults to max_iter=1000. From 0.21, default max_iter will be 1000, and default tol will be 1e-3.\n",
            "  \"and default tol will be 1e-3.\" % type(self), FutureWarning)\n"
          ],
          "name": "stderr"
        },
        {
          "output_type": "execute_result",
          "data": {
            "text/plain": [
              "SGDClassifier(alpha=0.0001, average=False, class_weight=None, epsilon=0.1,\n",
              "       eta0=0.0, fit_intercept=True, l1_ratio=0.15,\n",
              "       learning_rate='optimal', loss='hinge', max_iter=None, n_iter=None,\n",
              "       n_jobs=1, penalty='l2', power_t=0.5, random_state=None,\n",
              "       shuffle=True, tol=None, verbose=0, warm_start=False)"
            ]
          },
          "metadata": {
            "tags": []
          },
          "execution_count": 29
        }
      ]
    },
    {
      "metadata": {
        "id": "yh3ZOUoMNfK8",
        "colab_type": "code",
        "colab": {}
      },
      "cell_type": "code",
      "source": [
        "#訓練好後對測試集合進行預測結果保存在sgdc_y_predict中\n",
        "sgdc_y_predict = sgdc.predict(x_test)"
      ],
      "execution_count": 0,
      "outputs": []
    },
    {
      "metadata": {
        "id": "4EBvr8f9T4SK",
        "colab_type": "text"
      },
      "cell_type": "markdown",
      "source": [
        "**4.性能分析部分**"
      ]
    },
    {
      "metadata": {
        "id": "os_jXMGINh5b",
        "colab_type": "code",
        "colab": {
          "base_uri": "https://localhost:8080/",
          "height": 34
        },
        "outputId": "220a234b-4d1e-43d5-f9e3-685688d579c9"
      },
      "cell_type": "code",
      "source": [
        "print(\"邏輯斯蒂回歸準確率：\", lr.score(x_test, y_test))"
      ],
      "execution_count": 50,
      "outputs": [
        {
          "output_type": "stream",
          "text": [
            "邏輯斯蒂回歸準確率： 0.9883040935672515\n"
          ],
          "name": "stdout"
        }
      ]
    },
    {
      "metadata": {
        "id": "SzLCuIRoNlia",
        "colab_type": "code",
        "colab": {
          "base_uri": "https://localhost:8080/",
          "height": 153
        },
        "outputId": "73034902-3360-4e22-949d-4bc1e966270f"
      },
      "cell_type": "code",
      "source": [
        "print(\"邏輯斯蒂回歸的其他指標：\\n\", classification_report(y_test, lr_y_predict, target_names=[\"Benign\", \"Malignant\"]))\n",
        "\n",
        "# recall 召回率\n",
        "# precision 精确率\n",
        "# fl-score\n",
        "# support\n"
      ],
      "execution_count": 85,
      "outputs": [
        {
          "output_type": "stream",
          "text": [
            "邏輯斯蒂回歸的其他指標：\n",
            "              precision    recall  f1-score   support\n",
            "\n",
            "     Benign       0.99      0.99      0.99       100\n",
            "  Malignant       0.99      0.99      0.99        71\n",
            "\n",
            "avg / total       0.99      0.99      0.99       171\n",
            "\n"
          ],
          "name": "stdout"
        }
      ]
    },
    {
      "metadata": {
        "id": "Z5qUVGV_Np3Z",
        "colab_type": "code",
        "colab": {
          "base_uri": "https://localhost:8080/",
          "height": 34
        },
        "outputId": "a2e69ada-dba1-4e61-cc06-dbdce0dc3b9a"
      },
      "cell_type": "code",
      "source": [
        "print(\"隨機參數估計準確率：\", sgdc.score(x_test, y_test))"
      ],
      "execution_count": 51,
      "outputs": [
        {
          "output_type": "stream",
          "text": [
            "隨機參數估計準確率： 0.9181286549707602\n"
          ],
          "name": "stdout"
        }
      ]
    },
    {
      "metadata": {
        "id": "qLGv1y3iNsYw",
        "colab_type": "code",
        "colab": {
          "base_uri": "https://localhost:8080/",
          "height": 153
        },
        "outputId": "231e0dc4-0367-4a6d-b23e-9e06ceeb95fb"
      },
      "cell_type": "code",
      "source": [
        "print(\"隨機參數估計的其他指標:\\n\", classification_report(y_test, sgdc_y_predict, target_names=[\"Benign\", \"Malignant\"]))"
      ],
      "execution_count": 52,
      "outputs": [
        {
          "output_type": "stream",
          "text": [
            "隨機參數估計的其他指標:\n",
            "              precision    recall  f1-score   support\n",
            "\n",
            "     Benign       0.88      0.99      0.93       100\n",
            "  Malignant       0.98      0.82      0.89        71\n",
            "\n",
            "avg / total       0.93      0.92      0.92       171\n",
            "\n"
          ],
          "name": "stdout"
        }
      ]
    }
  ]
}